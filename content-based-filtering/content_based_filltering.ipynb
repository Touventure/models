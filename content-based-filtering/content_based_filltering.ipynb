{
  "nbformat": 4,
  "nbformat_minor": 0,
  "metadata": {
    "colab": {
      "provenance": []
    },
    "kernelspec": {
      "name": "python3",
      "display_name": "Python 3"
    },
    "language_info": {
      "name": "python"
    }
  },
  "cells": [
    {
      "cell_type": "code",
      "execution_count": null,
      "metadata": {
        "id": "7u0d17wX05gm"
      },
      "outputs": [],
      "source": [
        "import numpy as np\n",
        "import numpy.ma as ma\n",
        "import pandas as pd\n",
        "import tensorflow as tf\n",
        "from tensorflow import keras\n",
        "from sklearn.preprocessing import StandardScaler, MinMaxScaler\n",
        "from sklearn.model_selection import train_test_split\n",
        "import tabulate\n",
        "pd.set_option(\"display.precision\", 1)\n",
        "from collections import defaultdict\n",
        "import csv\n",
        "from numpy import genfromtxt"
      ]
    },
    {
      "cell_type": "code",
      "source": [
        "def load_data():\n",
        "    ''' called to load preprepared data for the lab '''\n",
        "    item_train = genfromtxt('content_item_train.csv', delimiter=',')\n",
        "    user_train = genfromtxt('content_user_train.csv', delimiter=',')\n",
        "    y_train    = genfromtxt('content_y_train.csv', delimiter=',')\n",
        "    with open('content_item_train_header.txt', newline='') as f:\n",
        "        item_features = list(csv.reader(f))[0]\n",
        "    with open('content_user_train_header.txt', newline='') as f:\n",
        "        user_features = list(csv.reader(f))[0]\n",
        "    item_vecs = genfromtxt('content_item_vecs.csv', delimiter=',')\n",
        "\n",
        "    destination_dict = defaultdict(dict)\n",
        "    count = 0\n",
        "\n",
        "    with open('content_destinations_list.csv', newline='') as csvfile:\n",
        "        reader = csv.reader(csvfile, delimiter=',', quotechar='\"')\n",
        "        for line in reader:\n",
        "            if count == 0:\n",
        "                count += 1\n",
        "            else:\n",
        "                count += 1\n",
        "                destination_id = int(line[0])\n",
        "                destination_dict[destination_id][\"name\"] = line[1]\n",
        "                destination_dict[destination_id][\"category\"] = line[2]\n",
        "\n",
        "\n",
        "    return(item_train, user_train, y_train, item_features, user_features, item_vecs, destination_dict)"
      ],
      "metadata": {
        "id": "6Q9i8KZf1pnx"
      },
      "execution_count": null,
      "outputs": []
    },
    {
      "cell_type": "code",
      "source": [
        "item_train, user_train, y_train, item_features, user_features, item_vecs, destination_dict = load_data()\n",
        "\n",
        "num_user_features = user_train.shape[1] - 3  # remove userid, rating count and ave rating during training\n",
        "num_item_features = item_train.shape[1] - 1  # remove place id at train time\n",
        "uvs = 3  # user genre vector start\n",
        "ivs = 3  # item genre vector start\n",
        "u_s = 3  # start of columns to use in training, user\n",
        "i_s = 1  # start of columns to use in training, items\n",
        "print(f\"Number of training vectors: {len(item_train)}\")"
      ],
      "metadata": {
        "colab": {
          "base_uri": "https://localhost:8080/"
        },
        "id": "AdhYwx8K49yv",
        "outputId": "fe9a5900-9e79-4580-de61-2847b36dd86f"
      },
      "execution_count": null,
      "outputs": [
        {
          "output_type": "stream",
          "name": "stdout",
          "text": [
            "Number of training vectors: 437\n"
          ]
        }
      ]
    },
    {
      "cell_type": "code",
      "source": [
        "print(f\"{len(item_train)}, {len(user_train)}, {len(y_train)}, {len(item_features)}, {len(user_features)}, {len(item_vecs)}, {len(destination_dict)}, \")"
      ],
      "metadata": {
        "colab": {
          "base_uri": "https://localhost:8080/"
        },
        "id": "iul6b199_02Y",
        "outputId": "faf4d69f-2770-4c04-ab87-332940e3df50"
      },
      "execution_count": null,
      "outputs": [
        {
          "output_type": "stream",
          "name": "stdout",
          "text": [
            "437, 437, 437, 9, 9, 437, 437, \n"
          ]
        }
      ]
    },
    {
      "cell_type": "code",
      "source": [
        "def split_str(ifeatures, smax):\n",
        "    ''' split the feature name strings to tables fit '''\n",
        "    ofeatures = []\n",
        "    for s in ifeatures:\n",
        "        if not ' ' in s:  # skip string that already have a space\n",
        "            if len(s) > smax:\n",
        "                mid = int(len(s)/2)\n",
        "                s = s[:mid] + \" \" + s[mid:]\n",
        "        ofeatures.append(s)\n",
        "    return ofeatures"
      ],
      "metadata": {
        "id": "mQP6geNh8LCP"
      },
      "execution_count": null,
      "outputs": []
    },
    {
      "cell_type": "code",
      "source": [
        "def pprint_train(x_train, features, vs, u_s, maxcount=5, user=True):\n",
        "    \"\"\" Prints user_train or item_train nicely \"\"\"\n",
        "    if user:\n",
        "        flist = [\".0f\", \".0f\", \".1f\",\n",
        "                 \".1f\", \".1f\", \".1f\", \".1f\", \".1f\", \".1f\", \".1f\", \".1f\", \".1f\", \".1f\", \".1f\", \".1f\", \".1f\", \".1f\"]\n",
        "    else:\n",
        "        flist = [\".0f\", \".0f\", \".1f\",\n",
        "                 \".0f\", \".0f\", \".0f\", \".0f\", \".0f\", \".0f\", \".0f\", \".0f\", \".0f\", \".0f\", \".0f\", \".0f\", \".0f\", \".0f\"]\n",
        "\n",
        "    head = features[:vs]\n",
        "    if vs < u_s: print(\"error, vector start {vs} should be greater then user start {u_s}\")\n",
        "    for i in range(u_s):\n",
        "        head[i] = \"[\" + head[i] + \"]\"\n",
        "    genres = features[vs:]\n",
        "    hdr = head + genres\n",
        "    disp = [split_str(hdr, 5)]\n",
        "    count = 0\n",
        "    for i in range(0, x_train.shape[0]):\n",
        "        if count == maxcount: break\n",
        "        count += 1\n",
        "        disp.append([x_train[i, 0].astype(int),\n",
        "                     x_train[i, 1].astype(int),\n",
        "                     x_train[i, 2].astype(float),\n",
        "                     *x_train[i, 3:].astype(float)\n",
        "                    ])\n",
        "    table = tabulate.tabulate(disp, tablefmt='html', headers=\"firstrow\", floatfmt=flist, numalign='center')\n",
        "    return table"
      ],
      "metadata": {
        "id": "Ixx0M_jM8Avc"
      },
      "execution_count": null,
      "outputs": []
    },
    {
      "cell_type": "code",
      "source": [
        "print(destination_dict)"
      ],
      "metadata": {
        "colab": {
          "base_uri": "https://localhost:8080/"
        },
        "id": "x0m6NGxj5Pzs",
        "outputId": "43a49257-67f3-48fc-cd9e-e042991b4f62"
      },
      "execution_count": null,
      "outputs": [
        {
          "output_type": "stream",
          "name": "stdout",
          "text": [
            "defaultdict(<class 'dict'>, {1: {'name': 'Monumen Nasional', 'category': 'Budaya'}, 2: {'name': 'Kota Tua', 'category': 'Budaya'}, 3: {'name': 'Dunia Fantasi', 'category': 'Taman Hiburan'}, 4: {'name': 'Taman Mini Indonesia Indah (TMII)', 'category': 'Taman Hiburan'}, 5: {'name': 'Atlantis Water Adventure', 'category': 'Taman Hiburan'}, 6: {'name': 'Taman Impian Jaya Ancol', 'category': 'Taman Hiburan'}, 7: {'name': 'Kebun Binatang Ragunan', 'category': 'Cagar Alam'}, 8: {'name': 'Ocean Ecopark', 'category': 'Taman Hiburan'}, 9: {'name': 'Pelabuhan Marina', 'category': 'Bahari'}, 10: {'name': 'Pulau Tidung', 'category': 'Bahari'}, 11: {'name': 'Pulau Bidadari', 'category': 'Bahari'}, 12: {'name': 'Pulau Pari', 'category': 'Bahari'}, 13: {'name': 'Pulau Pramuka', 'category': 'Bahari'}, 14: {'name': 'Pulau Pelangi', 'category': 'Bahari'}, 15: {'name': 'Pasar Seni', 'category': 'Pusat Perbelanjaan'}, 16: {'name': 'Jembatan Kota Intan', 'category': 'Budaya'}, 17: {'name': 'Museum Fatahillah', 'category': 'Budaya'}, 18: {'name': 'Museum Bank Indonesia', 'category': 'Budaya'}, 19: {'name': 'Kidzania', 'category': 'Taman Hiburan'}, 20: {'name': 'Museum Taman Prasasti', 'category': 'Budaya'}, 21: {'name': 'Museum Wayang', 'category': 'Budaya'}, 22: {'name': 'Masjid Istiqlal', 'category': 'Tempat Ibadah'}, 23: {'name': 'Gereja Katedral', 'category': 'Tempat Ibadah'}, 24: {'name': 'Museum Nasional', 'category': 'Budaya'}, 25: {'name': 'Pasar Tanah Abang', 'category': 'Pusat Perbelanjaan'}, 26: {'name': 'Pecinan Glodok', 'category': 'Pusat Perbelanjaan'}, 27: {'name': 'Sea World', 'category': 'Taman Hiburan'}, 28: {'name': 'Wisata Agro Edukatif Istana Susu Cibugary', 'category': 'Taman Hiburan'}, 29: {'name': 'Wisata Kuliner Pecenongan', 'category': 'Pusat Perbelanjaan'}, 30: {'name': 'Taman Menteng', 'category': 'Taman Hiburan'}, 31: {'name': 'Wisata Alam Mangrove Angke', 'category': 'Cagar Alam'}, 32: {'name': 'Setu Babakan', 'category': 'Budaya'}, 33: {'name': 'Taman Suropati', 'category': 'Taman Hiburan'}, 34: {'name': 'Pasar Taman Puring', 'category': 'Pusat Perbelanjaan'}, 35: {'name': 'Grand Indonesia Mall', 'category': 'Pusat Perbelanjaan'}, 36: {'name': 'Skyrink - Mall Taman Anggrek', 'category': 'Taman Hiburan'}, 37: {'name': 'Bumi Perkemahan Cibubur', 'category': 'Taman Hiburan'}, 38: {'name': 'Istana Negara Republik Indonesia', 'category': 'Budaya'}, 39: {'name': 'Museum Macan (Modern and Contemporary Art in Nusantara)', 'category': 'Budaya'}, 40: {'name': 'Galeri Nasional Indonesia', 'category': 'Budaya'}, 41: {'name': 'Museum Bahari Jakarta', 'category': 'Budaya'}, 42: {'name': 'Museum Seni Rupa dan Kramik', 'category': 'Budaya'}, 43: {'name': 'The Escape Hunt', 'category': 'Taman Hiburan'}, 44: {'name': 'Monumen Selamat Datang', 'category': 'Budaya'}, 45: {'name': 'Jakarta Aquarium dan Safari', 'category': 'Taman Hiburan'}, 46: {'name': 'Pulau Semak Daun', 'category': 'Bahari'}, 47: {'name': 'Taman Situ Lembang', 'category': 'Taman Hiburan'}, 48: {'name': 'Taman Ismail Marzuki', 'category': 'Budaya'}, 49: {'name': 'Galeri Indonesia Kaya', 'category': 'Budaya'}, 50: {'name': 'Museum Joang 45', 'category': 'Budaya'}, 51: {'name': 'Jakarta Planetarium', 'category': 'Taman Hiburan'}, 52: {'name': 'Kampung Cina', 'category': 'Budaya'}, 53: {'name': 'Rumah Sipitung', 'category': 'Budaya'}, 54: {'name': 'Taman Agrowisata Cilangkap', 'category': 'Taman Hiburan'}, 55: {'name': 'Klenteng Jin De Yuan', 'category': 'Tempat Ibadah'}, 56: {'name': 'Pantai Ancol', 'category': 'Bahari'}, 57: {'name': 'Taman Lapangan Banteng', 'category': 'Taman Hiburan'}, 58: {'name': 'Taman Ayodya', 'category': 'Taman Hiburan'}, 59: {'name': 'Museum Sumpah Pemuda', 'category': 'Budaya'}, 60: {'name': 'Museum Tekstil', 'category': 'Budaya'}, 61: {'name': 'Tugu Proklamasi', 'category': 'Budaya'}, 62: {'name': 'Taman Legenda Keong Emas', 'category': 'Taman Hiburan'}, 63: {'name': 'Museum Kebangkitan Nasional', 'category': 'Budaya'}, 64: {'name': 'Museum Sasmita Loka Ahmad Yani', 'category': 'Budaya'}, 65: {'name': 'Museum Basoeki Abdullah', 'category': 'Budaya'}, 66: {'name': 'Museum Layang-layang', 'category': 'Budaya'}, 67: {'name': 'Margasatwa Muara Angke', 'category': 'Cagar Alam'}, 68: {'name': 'Pasar Petak Sembilan', 'category': 'Pusat Perbelanjaan'}, 69: {'name': 'Freedom Library', 'category': 'Budaya'}, 70: {'name': 'Perpustakaan Nasional', 'category': 'Budaya'}, 71: {'name': 'Cibubur Garden Diary (Cibugary)', 'category': 'Cagar Alam'}, 72: {'name': 'Waterboom PIK (Pantai Indah Kapuk)', 'category': 'Taman Hiburan'}, 73: {'name': 'Museum Perangko', 'category': 'Budaya'}, 74: {'name': 'Museum Tengah Kebun', 'category': 'Budaya'}, 75: {'name': 'SnowBay Waterpark', 'category': 'Taman Hiburan'}, 76: {'name': 'Taman Cattleya', 'category': 'Taman Hiburan'}, 77: {'name': 'Taman Hutan Tebet', 'category': 'Taman Hiburan'}, 78: {'name': 'Hutan Kota Srengseng', 'category': 'Taman Hiburan'}, 79: {'name': 'Taman Spathodea', 'category': 'Taman Hiburan'}, 80: {'name': 'Plaza Indonesia', 'category': 'Pusat Perbelanjaan'}, 81: {'name': 'Mall Thamrin City', 'category': 'Pusat Perbelanjaan'}, 82: {'name': 'Museum Satria Mandala', 'category': 'Budaya'}, 83: {'name': 'Alive Museum Ancol', 'category': 'Taman Hiburan'}, 84: {'name': 'Kawasan Kuliner BSM', 'category': 'Pusat Perbelanjaan'}, 85: {'name': 'Taman Pintar Yogyakarta', 'category': 'Taman Hiburan'}, 86: {'name': 'Keraton Yogyakarta', 'category': 'Budaya'}, 87: {'name': 'Sindu Kusuma Edupark (SKE)', 'category': 'Taman Hiburan'}, 88: {'name': 'Museum Benteng Vredeburg Yogyakarta', 'category': 'Budaya'}, 89: {'name': 'De Mata Museum Jogja', 'category': 'Budaya'}, 90: {'name': 'Kampung Wisata Taman Sari', 'category': 'Taman Hiburan'}, 91: {'name': 'Situs Warungboto', 'category': 'Taman Hiburan'}, 92: {'name': 'Nol Kilometer Jl.Malioboro', 'category': 'Taman Hiburan'}, 93: {'name': 'Gembira Loka Zoo', 'category': 'Cagar Alam'}, 94: {'name': 'Sumur Gumuling', 'category': 'Taman Hiburan'}, 95: {'name': 'Desa Wisata Sungai Code Jogja Kota', 'category': 'Taman Hiburan'}, 96: {'name': 'Alun Alun Selatan Yogyakarta', 'category': 'Taman Hiburan'}, 97: {'name': 'Monumen Yogya Kembali', 'category': 'Budaya'}, 98: {'name': 'Taman Pelangi Yogyakarta', 'category': 'Taman Hiburan'}, 99: {'name': 'Kampung Wisata Kadipaten', 'category': 'Budaya'}, 100: {'name': 'Taman Budaya Yogyakarta', 'category': 'Budaya'}, 101: {'name': 'Kampung Wisata Sosro Menduran', 'category': 'Budaya'}, 102: {'name': 'Monumen Batik Yogyakarta', 'category': 'Budaya'}, 103: {'name': 'Tugu Pal Putih Jogja', 'category': 'Taman Hiburan'}, 104: {'name': 'Tebing Breksi', 'category': 'Budaya'}, 105: {'name': 'Candi Donotirto', 'category': 'Budaya'}, 106: {'name': 'Kawasan Malioboro', 'category': 'Taman Hiburan'}, 107: {'name': 'Bangsal Pagelaran', 'category': 'Budaya'}, 108: {'name': 'Embung Tambakboyo', 'category': 'Taman Hiburan'}, 109: {'name': 'Hutan Pinus Pengger', 'category': 'Taman Hiburan'}, 110: {'name': 'Monumen Serangan Umum 1 Maret', 'category': 'Taman Hiburan'}, 111: {'name': 'Puncak Pinus Becici', 'category': 'Taman Hiburan'}, 112: {'name': 'Bukit Bintang Yogyakarta', 'category': 'Taman Hiburan'}, 113: {'name': 'Gedung Agung Yogyakarta', 'category': 'Budaya'}, 114: {'name': 'The Lost World Castle', 'category': 'Taman Hiburan'}, 115: {'name': 'Monumen Sanapati', 'category': 'Budaya'}, 116: {'name': 'Jurang Tembelan Kanigoro', 'category': 'Taman Hiburan'}, 117: {'name': 'The World Landmarks - Merapi Park Yogyakarta', 'category': 'Taman Hiburan'}, 118: {'name': 'Museum Sonobudoyo Unit I', 'category': 'Budaya'}, 119: {'name': 'Lava Bantal', 'category': 'Budaya'}, 120: {'name': 'Bukit Panguk Kediwung', 'category': 'Budaya'}, 121: {'name': 'Candi Prambanan', 'category': 'Budaya'}, 122: {'name': 'Watu Goyang', 'category': 'Budaya'}, 123: {'name': 'Kampung Wisata Rejowinangun', 'category': 'Budaya'}, 124: {'name': 'Kauman Pakualaman Yogyakarta', 'category': 'Budaya'}, 125: {'name': 'Alun-alun Utara Keraton Yogyakarta', 'category': 'Budaya'}, 126: {'name': 'Pantai Goa Cemara', 'category': 'Bahari'}, 127: {'name': 'Blue Lagoon Jogja', 'category': 'Taman Hiburan'}, 128: {'name': 'Gumuk Pasir Parangkusumo', 'category': 'Taman Hiburan'}, 129: {'name': 'Bukit Lintang Sewu', 'category': 'Taman Hiburan'}, 130: {'name': 'Studio Alam Gamplong', 'category': 'Taman Hiburan'}, 131: {'name': 'Watu Lumbung', 'category': 'Cagar Alam'}, 132: {'name': 'Air Terjun Kedung Pedut', 'category': 'Cagar Alam'}, 133: {'name': 'Puncak Kebun Buah Mangunan', 'category': 'Taman Hiburan'}, 134: {'name': 'Desa Wisata Gamplong', 'category': 'Taman Hiburan'}, 135: {'name': 'Kawasan Wisata Sosrowijayan', 'category': 'Pusat Perbelanjaan'}, 136: {'name': 'Grojogan Watu Purbo Bangunrejo', 'category': 'Taman Hiburan'}, 137: {'name': 'Wisata Alam Kalibiru', 'category': 'Cagar Alam'}, 138: {'name': 'Jogja Exotarium', 'category': 'Taman Hiburan'}, 139: {'name': 'Puncak Gunung Api Purba - Nglanggeran', 'category': 'Cagar Alam'}, 140: {'name': 'Bendung Lepen', 'category': 'Taman Hiburan'}, 141: {'name': 'Bunker Kaliadem Merapi', 'category': 'Cagar Alam'}, 142: {'name': 'Ledok Sambi', 'category': 'Cagar Alam'}, 143: {'name': 'Seribu Batu Songgo Langit', 'category': 'Cagar Alam'}, 144: {'name': 'Goa Jomblang', 'category': 'Cagar Alam'}, 145: {'name': 'Desa Wisata Rumah Domes/Teletubbies', 'category': 'Taman Hiburan'}, 146: {'name': 'Bukit Wisata Pulepayung', 'category': 'Cagar Alam'}, 147: {'name': 'Bentara Budaya Yogyakarta (BBY)', 'category': 'Budaya'}, 148: {'name': 'Goa Rancang Kencono', 'category': 'Cagar Alam'}, 149: {'name': 'Goa Cerme', 'category': 'Cagar Alam'}, 150: {'name': 'Wisata Kraton Jogja', 'category': 'Budaya'}, 151: {'name': 'Desa Wisata Kelor', 'category': 'Taman Hiburan'}, 152: {'name': 'Pantai Patihan', 'category': 'Bahari'}, 153: {'name': 'Pantai Kukup', 'category': 'Bahari'}, 154: {'name': 'Pantai Ngrawe (Mesra)', 'category': 'Bahari'}, 155: {'name': 'Pantai Ngobaran', 'category': 'Bahari'}, 156: {'name': 'Pantai Pulang Sawal', 'category': 'Bahari'}, 157: {'name': 'Pantai Baron', 'category': 'Bahari'}, 158: {'name': 'Pantai Pok Tunggal', 'category': 'Bahari'}, 159: {'name': 'Hutan Pinus Asri', 'category': 'Cagar Alam'}, 160: {'name': 'Pasar Kebon Empring Bintaran', 'category': 'Pusat Perbelanjaan'}, 161: {'name': 'Bukit Paralayang, Watugupit', 'category': 'Cagar Alam'}, 162: {'name': 'Kampung Wisata Dipowinatan', 'category': 'Budaya'}, 163: {'name': 'Watu Mabur Mangunan', 'category': 'Cagar Alam'}, 164: {'name': 'Pintoe Langit Dahromo', 'category': 'Cagar Alam'}, 165: {'name': 'Green Village Gedangsari', 'category': 'Taman Hiburan'}, 166: {'name': 'Kebun Teh Nglinggo', 'category': 'Cagar Alam'}, 167: {'name': 'Geoforest Watu Payung Turunan', 'category': 'Cagar Alam'}, 168: {'name': 'Pantai Timang', 'category': 'Bahari'}, 169: {'name': 'Puncak Segoro', 'category': 'Cagar Alam'}, 170: {'name': 'Candi Borobudur', 'category': 'Budaya'}, 171: {'name': 'Candi Ijo', 'category': 'Budaya'}, 172: {'name': 'Pantai Indrayanti', 'category': 'Bahari'}, 173: {'name': 'Pantai Nglambor', 'category': 'Bahari'}, 174: {'name': 'Pasar Beringharjo', 'category': 'Pusat Perbelanjaan'}, 175: {'name': 'Museum Ullen Sentalu', 'category': 'Budaya'}, 176: {'name': 'Museum Gunung Merapi', 'category': 'Budaya'}, 177: {'name': 'Pantai Parangtritis', 'category': 'Bahari'}, 178: {'name': 'Goa Pindul', 'category': 'Cagar Alam'}, 179: {'name': 'Candi Ratu Boko', 'category': 'Budaya'}, 180: {'name': 'Pantai Depok Jogja', 'category': 'Bahari'}, 181: {'name': 'Pantai Sundak', 'category': 'Bahari'}, 182: {'name': 'Hutan Mangrove Kulon Progo', 'category': 'Bahari'}, 183: {'name': 'Jogja Bay Pirates Adventure Waterpark', 'category': 'Taman Hiburan'}, 184: {'name': 'Pantai Sepanjang', 'category': 'Bahari'}, 185: {'name': 'Pantai Krakal', 'category': 'Bahari'}, 186: {'name': 'Pantai Glagah', 'category': 'Bahari'}, 187: {'name': 'Pantai Siung', 'category': 'Bahari'}, 188: {'name': 'Pantai Sadranan', 'category': 'Bahari'}, 189: {'name': 'Pantai Nguluran', 'category': 'Bahari'}, 190: {'name': 'Pantai Samas', 'category': 'Bahari'}, 191: {'name': 'Pantai Drini', 'category': 'Bahari'}, 192: {'name': 'Air Terjun Sri Gethuk', 'category': 'Cagar Alam'}, 193: {'name': 'Candi Sewu', 'category': 'Budaya'}, 194: {'name': 'Pantai Wediombo', 'category': 'Bahari'}, 195: {'name': 'Pantai Jogan', 'category': 'Bahari'}, 196: {'name': 'Pantai Ngrenehan', 'category': 'Bahari'}, 197: {'name': 'Pantai Jungwok', 'category': 'Bahari'}, 198: {'name': 'Pantai Greweng', 'category': 'Bahari'}, 199: {'name': 'Pantai Sedahan', 'category': 'Bahari'}, 200: {'name': 'Pantai Watu Kodok', 'category': 'Bahari'}, 201: {'name': 'Pantai Kesirat', 'category': 'Bahari'}, 202: {'name': 'Pantai Ngandong', 'category': 'Bahari'}, 203: {'name': 'Galaxy Waterpark Jogja', 'category': 'Taman Hiburan'}, 204: {'name': 'Desa Wisata Pulesari', 'category': 'Taman Hiburan'}, 205: {'name': 'Desa Wisata Tembi', 'category': 'Taman Hiburan'}, 206: {'name': 'Wisata Kaliurang', 'category': 'Cagar Alam'}, 207: {'name': 'Heha Sky View', 'category': 'Taman Hiburan'}, 208: {'name': 'Taman Sungai Mudal', 'category': 'Cagar Alam'}, 209: {'name': 'Pantai Sanglen', 'category': 'Bahari'}, 210: {'name': 'Pantai Congot', 'category': 'Bahari'}, 211: {'name': 'GunungTangkuban perahu', 'category': 'Cagar Alam'}, 212: {'name': 'Jalan Braga', 'category': 'Budaya'}, 213: {'name': 'Gedung Sate', 'category': 'Budaya'}, 214: {'name': 'Trans Studio Bandung', 'category': 'Taman Hiburan'}, 215: {'name': 'Taman Hutan Raya Ir. H. Djuanda', 'category': 'Cagar Alam'}, 216: {'name': 'Farm House Susu Lembang', 'category': 'Taman Hiburan'}, 217: {'name': 'Kebun Binatang Bandung', 'category': 'Cagar Alam'}, 218: {'name': 'Kawah Putih', 'category': 'Cagar Alam'}, 219: {'name': 'Tebing Karaton', 'category': 'Cagar Alam'}, 220: {'name': 'Dusun Bambu', 'category': 'Taman Hiburan'}, 221: {'name': 'Museum Geologi Bandung', 'category': 'Budaya'}, 222: {'name': 'Museum Konferensi Asia Afrika', 'category': 'Budaya'}, 223: {'name': 'Masjid Raya Bandung', 'category': 'Tempat Ibadah'}, 224: {'name': 'Dago Dreampark', 'category': 'Taman Hiburan'}, 225: {'name': 'Orchid Forest Cikole', 'category': 'Taman Hiburan'}, 226: {'name': 'Kawasan Punclut', 'category': 'Taman Hiburan'}, 227: {'name': 'Alun-Alun Kota Bandung', 'category': 'Taman Hiburan'}, 228: {'name': 'Museum Sri Baduga', 'category': 'Budaya'}, 229: {'name': 'Rabbit Town', 'category': 'Taman Hiburan'}, 230: {'name': 'Stone Garden Citatah', 'category': 'Taman Hiburan'}, 231: {'name': 'The Great Asia Africa', 'category': 'Taman Hiburan'}, 232: {'name': 'Bukit Moko', 'category': 'Cagar Alam'}, 233: {'name': 'Gunung Papandayan', 'category': 'Cagar Alam'}, 234: {'name': 'Amazing Art World', 'category': 'Budaya'}, 235: {'name': 'Gua Belanda', 'category': 'Cagar Alam'}, 236: {'name': 'Taman Balai Kota Bandung', 'category': 'Taman Hiburan'}, 237: {'name': 'Panghegar Waterboom Bandung', 'category': 'Taman Hiburan'}, 238: {'name': 'Gunung Manglayang', 'category': 'Cagar Alam'}, 239: {'name': 'Lembang Park & Zoo', 'category': 'Cagar Alam'}, 240: {'name': 'Taman Lalu Lintas Ade Irma Suryani Nasution', 'category': 'Taman Hiburan'}, 241: {'name': 'Lawangwangi Creative Space', 'category': 'Taman Hiburan'}, 242: {'name': 'Curug Dago', 'category': 'Cagar Alam'}, 243: {'name': 'Kampung Korea Bandung', 'category': 'Budaya'}, 244: {'name': 'Kampung Batu Malakasari', 'category': 'Taman Hiburan'}, 245: {'name': 'Jendela Alam', 'category': 'Taman Hiburan'}, 246: {'name': 'Curug Tilu Leuwi Opat', 'category': 'Cagar Alam'}, 247: {'name': 'Kiara Artha Park', 'category': 'Taman Hiburan'}, 248: {'name': 'NuArt Sculpture Park', 'category': 'Taman Hiburan'}, 249: {'name': 'Upside Down World Bandung', 'category': 'Taman Hiburan'}, 250: {'name': 'Pesona Nirwana Waterpark & Cottages', 'category': 'Taman Hiburan'}, 251: {'name': 'Taman Lansia', 'category': 'Taman Hiburan'}, 252: {'name': 'Kampoeng Tulip', 'category': 'Taman Hiburan'}, 253: {'name': 'Selasar Sunaryo Art Space', 'category': 'Taman Hiburan'}, 254: {'name': 'Teras Cikapundung BBWS', 'category': 'Taman Hiburan'}, 255: {'name': 'Museum Barli', 'category': 'Budaya'}, 256: {'name': 'Wisata Batu Kuda', 'category': 'Cagar Alam'}, 257: {'name': 'Monumen Bandung Lautan Api', 'category': 'Budaya'}, 258: {'name': 'Museum Gedung Sate', 'category': 'Budaya'}, 259: {'name': 'Monumen Perjuangan Rakyat Jawa Barat', 'category': 'Budaya'}, 260: {'name': 'Museum Pos Indonesia', 'category': 'Budaya'}, 261: {'name': 'Ciwangun Indah Camp Official', 'category': 'Cagar Alam'}, 262: {'name': 'Wot Batu', 'category': 'Cagar Alam'}, 263: {'name': 'Curug Batu Templek', 'category': 'Cagar Alam'}, 264: {'name': 'Gereja Katedral Santo Petrus Bandung', 'category': 'Tempat Ibadah'}, 265: {'name': 'Museum Mandala Wangsit Siliwangi', 'category': 'Budaya'}, 266: {'name': 'Caringin Tilu', 'category': 'Cagar Alam'}, 267: {'name': 'Panama Park 825', 'category': 'Taman Hiburan'}, 268: {'name': 'Sudut Pandang Bandung', 'category': 'Taman Hiburan'}, 269: {'name': 'Bumi Perkemahan Batu Kuda', 'category': 'Cagar Alam'}, 270: {'name': 'Bukit Bintang', 'category': 'Cagar Alam'}, 271: {'name': 'Taman Vanda', 'category': 'Taman Hiburan'}, 272: {'name': 'Taman Budaya Jawa Barat', 'category': 'Budaya'}, 273: {'name': 'Curug Bugbrug', 'category': 'Cagar Alam'}, 274: {'name': 'Babakan Siliwangi City Forest Path Bandung', 'category': 'Cagar Alam'}, 275: {'name': 'Curug Cipanas', 'category': 'Cagar Alam'}, 276: {'name': 'Taman Jomblo', 'category': 'Taman Hiburan'}, 277: {'name': 'Peta Park', 'category': 'Taman Hiburan'}, 278: {'name': 'Masjid Daarut Tauhiid Bandung', 'category': 'Tempat Ibadah'}, 279: {'name': 'Masjid Agung Trans Studio Bandung', 'category': 'Tempat Ibadah'}, 280: {'name': 'Gereja Tiberias Indonesia Bandung', 'category': 'Tempat Ibadah'}, 281: {'name': 'Tektona Waterpark', 'category': 'Taman Hiburan'}, 282: {'name': 'Curug Cilengkrang', 'category': 'Cagar Alam'}, 283: {'name': 'Jembatan Pasupati', 'category': 'Taman Hiburan'}, 284: {'name': 'Pasar Baru', 'category': 'Pusat Perbelanjaan'}, 285: {'name': 'Taman Sejarah Bandung', 'category': 'Budaya'}, 286: {'name': 'Roemah Seni Sarasvati', 'category': 'Budaya'}, 287: {'name': 'Puspa Iptek Sundial', 'category': 'Taman Hiburan'}, 288: {'name': 'Masjid Salman ITB', 'category': 'Tempat Ibadah'}, 289: {'name': 'Curug Aseupan', 'category': 'Cagar Alam'}, 290: {'name': 'Museum Pendidikan Nasional', 'category': 'Budaya'}, 291: {'name': 'Water Park Bandung Indah', 'category': 'Taman Hiburan'}, 292: {'name': 'Curug Anom', 'category': 'Cagar Alam'}, 293: {'name': 'Taman Badak', 'category': 'Taman Hiburan'}, 294: {'name': 'Taman Film', 'category': 'Budaya'}, 295: {'name': 'Museum Nike Ardilla', 'category': 'Budaya'}, 296: {'name': 'Batununggal Indah Club', 'category': 'Taman Hiburan'}, 297: {'name': 'Mountain View Golf Club', 'category': 'Cagar Alam'}, 298: {'name': 'Gunung Lalakon', 'category': 'Cagar Alam'}, 299: {'name': 'Sendang Geulis Kahuripan', 'category': 'Cagar Alam'}, 300: {'name': 'Sanghyang Heuleut', 'category': 'Cagar Alam'}, 301: {'name': 'Lereng Anteng Panoramic Coffee Place', 'category': 'Cagar Alam'}, 302: {'name': 'Masjid Pusdai', 'category': 'Tempat Ibadah'}, 303: {'name': 'Masjid Al-Imtizaj', 'category': 'Tempat Ibadah'}, 304: {'name': 'Situ Cileunca', 'category': 'Cagar Alam'}, 305: {'name': 'Sunrise Point Cukul', 'category': 'Cagar Alam'}, 306: {'name': 'Sungai Palayangan', 'category': 'Cagar Alam'}, 307: {'name': 'Perkebunan Teh Malabar', 'category': 'Cagar Alam'}, 308: {'name': 'Pemandian Air Panas Ciater', 'category': 'Cagar Alam'}, 309: {'name': 'Observatorium Bosscha', 'category': 'Cagar Alam'}, 310: {'name': 'Taman Bunga Cihideung', 'category': 'Cagar Alam'}, 311: {'name': 'The Lodge Maribaya', 'category': 'Cagar Alam'}, 312: {'name': 'Taman Hutan Raya Ir. H. Juanda', 'category': 'Cagar Alam'}, 313: {'name': 'Taman Begonia', 'category': 'Cagar Alam'}, 314: {'name': 'Tafso Barn', 'category': 'Cagar Alam'}, 315: {'name': 'Curug Luhur Waterfall', 'category': 'Cagar Alam'}, 316: {'name': 'Curug Malela', 'category': 'Cagar Alam'}, 317: {'name': 'Curug Cimahi', 'category': 'Cagar Alam'}, 318: {'name': 'Situ Patenggang', 'category': 'Cagar Alam'}, 319: {'name': 'Kawah Rengganis Cibuni', 'category': 'Cagar Alam'}, 320: {'name': 'Pemandian Air Panas Cimanggu', 'category': 'Cagar Alam'}, 321: {'name': 'Glamping Lakeside Rancabali', 'category': 'Taman Hiburan'}, 322: {'name': 'Bukit Jamur', 'category': 'Cagar Alam'}, 323: {'name': 'Kebun Tanaman Obat Sari Alam', 'category': 'Cagar Alam'}, 324: {'name': 'Happyfarm Ciwidey', 'category': 'Cagar Alam'}, 325: {'name': 'Saung Angklung Mang Udjo', 'category': 'Budaya'}, 326: {'name': 'Taman Kupu-Kupu Cihanjuang', 'category': 'Cagar Alam'}, 327: {'name': 'Taman Miniatur Kereta Api', 'category': 'Taman Hiburan'}, 328: {'name': 'Gua Pawon', 'category': 'Cagar Alam'}, 329: {'name': 'Bukit Gantole Cililin', 'category': 'Cagar Alam'}, 330: {'name': 'Bandros City Tour', 'category': 'Budaya'}, 331: {'name': 'Kyotoku Floating Market', 'category': 'Budaya'}, 332: {'name': 'Rainbow Garden', 'category': 'Cagar Alam'}, 333: {'name': 'Kota Mini', 'category': 'Taman Hiburan'}, 334: {'name': 'Chingu Cafe Little Seoul', 'category': 'Taman Hiburan'}, 335: {'name': 'Candi Gedong Songo', 'category': 'Budaya'}, 336: {'name': 'Grand Maerakaca', 'category': 'Taman Hiburan'}, 337: {'name': 'Kampung Pelangi', 'category': 'Taman Hiburan'}, 338: {'name': 'Lawang Sewu', 'category': 'Budaya'}, 339: {'name': 'Sam Poo Kong Temple', 'category': 'Budaya'}, 340: {'name': 'Desa Wisata Lembah Kalipancur', 'category': 'Taman Hiburan'}, 341: {'name': 'Hutan Wisata Tinjomoyo Semarang', 'category': 'Cagar Alam'}, 342: {'name': 'Taman Kasmaran', 'category': 'Taman Hiburan'}, 343: {'name': 'Pantai Baruna', 'category': 'Bahari'}, 344: {'name': 'Pantai Marina', 'category': 'Bahari'}, 345: {'name': 'Kampoeng Djadhoel Semarang', 'category': 'Budaya'}, 346: {'name': 'Indonesia Kaya Park', 'category': 'Taman Hiburan'}, 347: {'name': 'Taman Pandanaran', 'category': 'Taman Hiburan'}, 348: {'name': 'Pura Giri Natha', 'category': 'Budaya'}, 349: {'name': 'Wisata Mangrove Tapak', 'category': 'Cagar Alam'}, 350: {'name': 'Pantai Cipta', 'category': 'Bahari'}, 351: {'name': 'Old City 3D Trick Art Museum', 'category': 'Budaya'}, 352: {'name': 'GPIB Immanuel Semarang (Gereja Blenduk)', 'category': 'Tempat Ibadah'}, 353: {'name': 'Taman Srigunting', 'category': 'Taman Hiburan'}, 354: {'name': 'Semarang Contemporary Art Gallery', 'category': 'Budaya'}, 355: {'name': 'Umbul Sidomukti', 'category': 'Cagar Alam'}, 356: {'name': 'Saloka Theme Park', 'category': 'Taman Hiburan'}, 357: {'name': 'Wisata Alam Wana Wisata Penggaron', 'category': 'Cagar Alam'}, 358: {'name': 'Masjid Kapal Semarang', 'category': 'Tempat Ibadah'}, 359: {'name': 'Taman Bunga Celosia', 'category': 'Cagar Alam'}, 360: {'name': 'Air Terjun Kali Pancur', 'category': 'Cagar Alam'}, 361: {'name': 'Wisata Kampung Krisan Clapar', 'category': 'Taman Hiburan'}, 362: {'name': 'Danau Rawa Pening', 'category': 'Cagar Alam'}, 363: {'name': 'Pantai Maron', 'category': 'Bahari'}, 364: {'name': 'Water Blaster Bukit Candi Golf', 'category': 'Taman Hiburan'}, 365: {'name': 'Waduk Jatibarang', 'category': 'Cagar Alam'}, 366: {'name': 'Tirto Argo Siwarak', 'category': 'Taman Hiburan'}, 367: {'name': 'Wisata Lereng Kelir', 'category': 'Cagar Alam'}, 368: {'name': 'Kampoeng Rawa', 'category': 'Cagar Alam'}, 369: {'name': 'Monumen Palagan Ambarawa', 'category': 'Budaya'}, 370: {'name': 'Benteng Pendem', 'category': 'Budaya'}, 371: {'name': 'Wisata Eling Bening', 'category': 'Cagar Alam'}, 372: {'name': 'Gua Maria Kerep Ambarawa', 'category': 'Cagar Alam'}, 373: {'name': 'Museum Kereta Ambarawa', 'category': 'Budaya'}, 374: {'name': 'Hutan Pinus Kayon', 'category': 'Cagar Alam'}, 375: {'name': 'Kota Lama Semarang', 'category': 'Budaya'}, 376: {'name': 'Semarang Chinatown', 'category': 'Budaya'}, 377: {'name': 'La Kana Chapel', 'category': 'Taman Hiburan'}, 378: {'name': 'Jembatan Biru Ambarawa', 'category': 'Taman Hiburan'}, 379: {'name': 'Goa Rong', 'category': 'Cagar Alam'}, 380: {'name': 'Masjid Agung Ungaran', 'category': 'Tempat Ibadah'}, 381: {'name': 'Tugu Muda Semarang', 'category': 'Budaya'}, 382: {'name': 'Kampoeng Kopi Banaran', 'category': 'Taman Hiburan'}, 383: {'name': 'Taman Tabanas', 'category': 'Taman Hiburan'}, 384: {'name': 'Kampung Tematik Jawi', 'category': 'Budaya'}, 385: {'name': 'Kampung Batik Gedong Semarang', 'category': 'Budaya'}, 386: {'name': 'Air Terjun Semirang', 'category': 'Cagar Alam'}, 387: {'name': 'Obyek Wisata Goa Kreo', 'category': 'Cagar Alam'}, 388: {'name': 'Watu Gunung Ungaran', 'category': 'Cagar Alam'}, 389: {'name': 'Brown Canyon', 'category': 'Cagar Alam'}, 390: {'name': 'Durian Gardens and Tourism Education Watu Simbar', 'category': 'Cagar Alam'}, 391: {'name': 'Flower Farm Setiya Aji', 'category': 'Cagar Alam'}, 392: {'name': 'Ekowisata Mangrove Wonorejo', 'category': 'Cagar Alam'}, 393: {'name': 'Taman Harmoni Keputih', 'category': 'Cagar Alam'}, 394: {'name': 'Air Mancur Menari', 'category': 'Taman Hiburan'}, 395: {'name': 'Taman Prestasi', 'category': 'Taman Hiburan'}, 396: {'name': 'Monumen Kapal Selam', 'category': 'Budaya'}, 397: {'name': 'Taman Kunang-Kunang', 'category': 'Taman Hiburan'}, 398: {'name': 'Taman Buah Surabaya', 'category': 'Taman Hiburan'}, 399: {'name': 'Taman Pelangi', 'category': 'Taman Hiburan'}, 400: {'name': 'Hutan Bambu Keputih', 'category': 'Cagar Alam'}, 401: {'name': 'Taman Keputran', 'category': 'Taman Hiburan'}, 402: {'name': 'Food Junction Grand Pakuwon', 'category': 'Pusat Perbelanjaan'}, 403: {'name': 'Taman Barunawati', 'category': 'Taman Hiburan'}, 404: {'name': 'Kenjeran Park', 'category': 'Taman Hiburan'}, 405: {'name': 'Surabaya North Quay', 'category': 'Taman Hiburan'}, 406: {'name': 'Kebun Bibit Wonorejo', 'category': 'Cagar Alam'}, 407: {'name': 'Taman Ekspresi Dan Perpustakaan', 'category': 'Taman Hiburan'}, 408: {'name': 'Kebun Binatang Surabaya', 'category': 'Cagar Alam'}, 409: {'name': 'Rumah Batik', 'category': 'Budaya'}, 410: {'name': 'Ciputra Waterpark', 'category': 'Taman Hiburan'}, 411: {'name': 'Masjid Muhammad Cheng Hoo', 'category': 'Tempat Ibadah'}, 412: {'name': 'Masjid Nasional Al-Akbar', 'category': 'Tempat Ibadah'}, 413: {'name': 'Museum TNI AL Loka Jala Crana', 'category': 'Budaya'}, 414: {'name': 'Jembatan Merah', 'category': 'Budaya'}, 415: {'name': 'Museum De Javasche Bank', 'category': 'Budaya'}, 416: {'name': 'Keraton Surabaya', 'category': 'Budaya'}, 417: {'name': 'Klenteng Sanggar Agung', 'category': 'Budaya'}, 418: {'name': 'Museum Sepuluh Nopember Kota Surabaya', 'category': 'Budaya'}, 419: {'name': 'Monumen Tugu Pahlawan', 'category': 'Budaya'}, 420: {'name': 'Surabaya Museum (Gedung Siola)', 'category': 'Budaya'}, 421: {'name': 'Museum Kesehatan Dr. Adhyatma', 'category': 'Budaya'}, 422: {'name': 'Monumen Jalesveva Jayamahe', 'category': 'Budaya'}, 423: {'name': 'Patung Sura dan Buaya', 'category': 'Budaya'}, 424: {'name': 'Pantai Ria Kenjeran', 'category': 'Bahari'}, 425: {'name': 'Waterpark Kenjeran Surabaya', 'category': 'Taman Hiburan'}, 426: {'name': 'Balai Kota Surabaya', 'category': 'Budaya'}, 427: {'name': 'Patung Buddha Empat Rupa', 'category': 'Budaya'}, 428: {'name': 'Monumen Bambu Runcing Surabaya', 'category': 'Budaya'}, 429: {'name': 'House of Sampoerna', 'category': 'Budaya'}, 430: {'name': 'Atlantis Land Surabaya', 'category': 'Taman Hiburan'}, 431: {'name': 'Taman Hiburan Rakyat', 'category': 'Taman Hiburan'}, 432: {'name': 'Taman Mundu', 'category': 'Taman Hiburan'}, 433: {'name': 'Museum Mpu Tantular', 'category': 'Budaya'}, 434: {'name': 'Taman Bungkul', 'category': 'Taman Hiburan'}, 435: {'name': 'Taman Air Mancur Menari Kenjeran', 'category': 'Taman Hiburan'}, 436: {'name': 'Taman Flora Bratang Surabaya', 'category': 'Taman Hiburan'}, 437: {'name': 'Gereja Perawan Maria Tak Berdosa Surabaya', 'category': 'Tempat Ibadah'}})\n"
          ]
        }
      ]
    },
    {
      "cell_type": "code",
      "source": [
        "pprint_train(user_train, user_features, uvs,  u_s, maxcount=5)"
      ],
      "metadata": {
        "id": "G2zMtiVN8b3d"
      },
      "execution_count": null,
      "outputs": []
    },
    {
      "cell_type": "code",
      "source": [
        "pprint_train(item_train, item_features, ivs, i_s, maxcount=5, user=False)"
      ],
      "metadata": {
        "id": "nnBa-xwe89mM"
      },
      "execution_count": null,
      "outputs": []
    },
    {
      "cell_type": "code",
      "source": [
        "print(f\"y_train[:5]: {y_train[:5]}\")"
      ],
      "metadata": {
        "colab": {
          "base_uri": "https://localhost:8080/"
        },
        "id": "kNi6twse9UEu",
        "outputId": "7e8fc7f7-8bb8-451b-8397-9a698ca3481e"
      },
      "execution_count": null,
      "outputs": [
        {
          "output_type": "stream",
          "name": "stdout",
          "text": [
            "y_train[:5]: [3.36666667 3.24137931 3.36666667 3.42307692 3.36363636]\n"
          ]
        }
      ]
    },
    {
      "cell_type": "code",
      "source": [
        "# scale training data\n",
        "item_train_unscaled = item_train\n",
        "user_train_unscaled = user_train\n",
        "y_train_unscaled    = y_train\n",
        "\n",
        "scalerItem = StandardScaler()\n",
        "scalerItem.fit(item_train)\n",
        "item_train = scalerItem.transform(item_train)\n",
        "\n",
        "scalerUser = StandardScaler()\n",
        "scalerUser.fit(user_train)\n",
        "user_train = scalerUser.transform(user_train)\n",
        "\n",
        "scalerTarget = MinMaxScaler((-1, 1))\n",
        "scalerTarget.fit(y_train.reshape(-1, 1))\n",
        "y_train = scalerTarget.transform(y_train.reshape(-1, 1))\n",
        "#ynorm_test = scalerTarget.transform(y_test.reshape(-1, 1))\n",
        "\n",
        "print(np.allclose(item_train_unscaled, scalerItem.inverse_transform(item_train)))\n",
        "print(np.allclose(user_train_unscaled, scalerUser.inverse_transform(user_train)))"
      ],
      "metadata": {
        "id": "NDeWhnb09Yln"
      },
      "execution_count": null,
      "outputs": []
    },
    {
      "cell_type": "code",
      "source": [
        "item_train, item_test = train_test_split(item_train, train_size=0.80, shuffle=True, random_state=1)\n",
        "user_train, user_test = train_test_split(user_train, train_size=0.80, shuffle=True, random_state=1)\n",
        "y_train, y_test       = train_test_split(y_train,    train_size=0.80, shuffle=True, random_state=1)\n",
        "print(f\"destination/item training data shape: {item_train.shape}\")\n",
        "print(f\"destination/item test data shape: {item_test.shape}\")"
      ],
      "metadata": {
        "id": "GVz8Zkbi9hyU"
      },
      "execution_count": null,
      "outputs": []
    },
    {
      "cell_type": "code",
      "source": [
        "pprint_train(user_train, user_features, uvs, u_s, maxcount=5)"
      ],
      "metadata": {
        "colab": {
          "base_uri": "https://localhost:8080/",
          "height": 140
        },
        "id": "X1VwBfME9oSb",
        "outputId": "611839e3-1cd8-4dd4-b1df-43460877570e"
      },
      "execution_count": null,
      "outputs": [
        {
          "output_type": "execute_result",
          "data": {
            "text/plain": [
              "'<table>\\n<thead>\\n<tr><th style=\"text-align: center;\"> [Use r_Id] </th><th style=\"text-align: center;\"> [Rating _Count] </th><th style=\"text-align: center;\"> [Rating_ Average] </th><th style=\"text-align: center;\"> Bah ari </th><th style=\"text-align: center;\"> Bud aya </th><th style=\"text-align: center;\"> Cagar Alam </th><th style=\"text-align: center;\"> Pusat Perbelanjaan </th><th style=\"text-align: center;\"> Taman Hiburan </th><th style=\"text-align: center;\"> Tempat Ibadah </th></tr>\\n</thead>\\n<tbody>\\n<tr><td style=\"text-align: center;\">     -1     </td><td style=\"text-align: center;\">       -1        </td><td style=\"text-align: center;\">       -1.8        </td><td style=\"text-align: center;\">  -1.4   </td><td style=\"text-align: center;\">  -1.5   </td><td style=\"text-align: center;\">    -1.7    </td><td style=\"text-align: center;\">        0.5         </td><td style=\"text-align: center;\">      0.2      </td><td style=\"text-align: center;\">      0.7      </td></tr>\\n<tr><td style=\"text-align: center;\">     -1     </td><td style=\"text-align: center;\">       -1        </td><td style=\"text-align: center;\">       -1.9        </td><td style=\"text-align: center;\">   0.0   </td><td style=\"text-align: center;\">  -1.0   </td><td style=\"text-align: center;\">    -0.7    </td><td style=\"text-align: center;\">        -0.4        </td><td style=\"text-align: center;\">     -1.2      </td><td style=\"text-align: center;\">     -1.4      </td></tr>\\n<tr><td style=\"text-align: center;\">     0      </td><td style=\"text-align: center;\">        0        </td><td style=\"text-align: center;\">       -0.4        </td><td style=\"text-align: center;\">   0.7   </td><td style=\"text-align: center;\">  -1.2   </td><td style=\"text-align: center;\">    -0.7    </td><td style=\"text-align: center;\">        1.7         </td><td style=\"text-align: center;\">      1.1      </td><td style=\"text-align: center;\">     -0.2      </td></tr>\\n<tr><td style=\"text-align: center;\">     -1     </td><td style=\"text-align: center;\">        1        </td><td style=\"text-align: center;\">       -0.2        </td><td style=\"text-align: center;\">   0.2   </td><td style=\"text-align: center;\">  -1.2   </td><td style=\"text-align: center;\">    -1.7    </td><td style=\"text-align: center;\">        0.8         </td><td style=\"text-align: center;\">      1.2      </td><td style=\"text-align: center;\">     -1.4      </td></tr>\\n<tr><td style=\"text-align: center;\">     0      </td><td style=\"text-align: center;\">        0        </td><td style=\"text-align: center;\">        0.3        </td><td style=\"text-align: center;\">  -0.4   </td><td style=\"text-align: center;\">   0.2   </td><td style=\"text-align: center;\">    0.3     </td><td style=\"text-align: center;\">        1.7         </td><td style=\"text-align: center;\">     -0.2      </td><td style=\"text-align: center;\">      1.6      </td></tr>\\n</tbody>\\n</table>'"
            ],
            "text/html": [
              "<table>\n",
              "<thead>\n",
              "<tr><th style=\"text-align: center;\"> [Use r_Id] </th><th style=\"text-align: center;\"> [Rating _Count] </th><th style=\"text-align: center;\"> [Rating_ Average] </th><th style=\"text-align: center;\"> Bah ari </th><th style=\"text-align: center;\"> Bud aya </th><th style=\"text-align: center;\"> Cagar Alam </th><th style=\"text-align: center;\"> Pusat Perbelanjaan </th><th style=\"text-align: center;\"> Taman Hiburan </th><th style=\"text-align: center;\"> Tempat Ibadah </th></tr>\n",
              "</thead>\n",
              "<tbody>\n",
              "<tr><td style=\"text-align: center;\">     -1     </td><td style=\"text-align: center;\">       -1        </td><td style=\"text-align: center;\">       -1.8        </td><td style=\"text-align: center;\">  -1.4   </td><td style=\"text-align: center;\">  -1.5   </td><td style=\"text-align: center;\">    -1.7    </td><td style=\"text-align: center;\">        0.5         </td><td style=\"text-align: center;\">      0.2      </td><td style=\"text-align: center;\">      0.7      </td></tr>\n",
              "<tr><td style=\"text-align: center;\">     -1     </td><td style=\"text-align: center;\">       -1        </td><td style=\"text-align: center;\">       -1.9        </td><td style=\"text-align: center;\">   0.0   </td><td style=\"text-align: center;\">  -1.0   </td><td style=\"text-align: center;\">    -0.7    </td><td style=\"text-align: center;\">        -0.4        </td><td style=\"text-align: center;\">     -1.2      </td><td style=\"text-align: center;\">     -1.4      </td></tr>\n",
              "<tr><td style=\"text-align: center;\">     0      </td><td style=\"text-align: center;\">        0        </td><td style=\"text-align: center;\">       -0.4        </td><td style=\"text-align: center;\">   0.7   </td><td style=\"text-align: center;\">  -1.2   </td><td style=\"text-align: center;\">    -0.7    </td><td style=\"text-align: center;\">        1.7         </td><td style=\"text-align: center;\">      1.1      </td><td style=\"text-align: center;\">     -0.2      </td></tr>\n",
              "<tr><td style=\"text-align: center;\">     -1     </td><td style=\"text-align: center;\">        1        </td><td style=\"text-align: center;\">       -0.2        </td><td style=\"text-align: center;\">   0.2   </td><td style=\"text-align: center;\">  -1.2   </td><td style=\"text-align: center;\">    -1.7    </td><td style=\"text-align: center;\">        0.8         </td><td style=\"text-align: center;\">      1.2      </td><td style=\"text-align: center;\">     -1.4      </td></tr>\n",
              "<tr><td style=\"text-align: center;\">     0      </td><td style=\"text-align: center;\">        0        </td><td style=\"text-align: center;\">        0.3        </td><td style=\"text-align: center;\">  -0.4   </td><td style=\"text-align: center;\">   0.2   </td><td style=\"text-align: center;\">    0.3     </td><td style=\"text-align: center;\">        1.7         </td><td style=\"text-align: center;\">     -0.2      </td><td style=\"text-align: center;\">      1.6      </td></tr>\n",
              "</tbody>\n",
              "</table>"
            ],
            "application/vnd.google.colaboratory.intrinsic+json": {
              "type": "string"
            }
          },
          "metadata": {},
          "execution_count": 9
        }
      ]
    },
    {
      "cell_type": "code",
      "source": [
        "num_outputs = 32\n",
        "tf.random.set_seed(1)\n",
        "user_NN = tf.keras.models.Sequential([\n",
        "    tf.keras.layers.Dense(256, activation='relu'),\n",
        "    tf.keras.layers.Dense(128, activation='relu'),\n",
        "    tf.keras.layers.Dense(num_outputs, activation='linear'),\n",
        "])\n",
        "\n",
        "item_NN = tf.keras.models.Sequential([\n",
        "    tf.keras.layers.Dense(256, activation='relu'),\n",
        "    tf.keras.layers.Dense(128, activation='relu'),\n",
        "    tf.keras.layers.Dense(num_outputs, activation='linear'),\n",
        "])\n",
        "\n",
        "input_user = tf.keras.layers.Input(shape=(num_user_features))\n",
        "vu = user_NN(input_user)\n",
        "vu = tf.linalg.l2_normalize(vu, axis=1)\n",
        "\n",
        "input_item = tf.keras.layers.Input(shape=(num_item_features))\n",
        "vm = item_NN(input_item)\n",
        "vm = tf.linalg.l2_normalize(vm, axis=1)\n",
        "\n",
        "output = tf.keras.layers.Dot(axes=1)([vu, vm])\n",
        "model = tf.keras.Model([input_user, input_item], output)\n",
        "model.summary()"
      ],
      "metadata": {
        "colab": {
          "base_uri": "https://localhost:8080/"
        },
        "id": "Kb6V95HG99FV",
        "outputId": "667fda83-c434-4b76-8d38-ff53171ba9db"
      },
      "execution_count": null,
      "outputs": [
        {
          "output_type": "stream",
          "name": "stdout",
          "text": [
            "Model: \"model\"\n",
            "__________________________________________________________________________________________________\n",
            " Layer (type)                Output Shape                 Param #   Connected to                  \n",
            "==================================================================================================\n",
            " input_1 (InputLayer)        [(None, 6)]                  0         []                            \n",
            "                                                                                                  \n",
            " input_2 (InputLayer)        [(None, 8)]                  0         []                            \n",
            "                                                                                                  \n",
            " sequential (Sequential)     (None, 32)                   38816     ['input_1[0][0]']             \n",
            "                                                                                                  \n",
            " sequential_1 (Sequential)   (None, 32)                   39328     ['input_2[0][0]']             \n",
            "                                                                                                  \n",
            " tf.math.l2_normalize (TFOp  (None, 32)                   0         ['sequential[0][0]']          \n",
            " Lambda)                                                                                          \n",
            "                                                                                                  \n",
            " tf.math.l2_normalize_1 (TF  (None, 32)                   0         ['sequential_1[0][0]']        \n",
            " OpLambda)                                                                                        \n",
            "                                                                                                  \n",
            " dot (Dot)                   (None, 1)                    0         ['tf.math.l2_normalize[0][0]',\n",
            "                                                                     'tf.math.l2_normalize_1[0][0]\n",
            "                                                                    ']                            \n",
            "                                                                                                  \n",
            "==================================================================================================\n",
            "Total params: 78144 (305.25 KB)\n",
            "Trainable params: 78144 (305.25 KB)\n",
            "Non-trainable params: 0 (0.00 Byte)\n",
            "__________________________________________________________________________________________________\n"
          ]
        }
      ]
    },
    {
      "cell_type": "code",
      "source": [
        "tf.random.set_seed(1)\n",
        "cost_fn = tf.keras.losses.MeanSquaredError()\n",
        "opt = keras.optimizers.Adam(learning_rate=0.01)\n",
        "model.compile(optimizer=opt,\n",
        "              loss=cost_fn)"
      ],
      "metadata": {
        "id": "Lm4rTYG2-F1o"
      },
      "execution_count": null,
      "outputs": []
    },
    {
      "cell_type": "code",
      "source": [
        "tf.random.set_seed(1)\n",
        "model.fit([user_train[:, u_s:], item_train[:, i_s:]], y_train, epochs=30)"
      ],
      "metadata": {
        "colab": {
          "base_uri": "https://localhost:8080/"
        },
        "id": "Or9vxPg7-ImC",
        "outputId": "355b13d9-3c7f-4ab5-dd5e-b0e75aaffa13"
      },
      "execution_count": null,
      "outputs": [
        {
          "output_type": "stream",
          "name": "stdout",
          "text": [
            "Epoch 1/30\n",
            "11/11 [==============================] - 2s 5ms/step - loss: 0.0725\n",
            "Epoch 2/30\n",
            "11/11 [==============================] - 0s 4ms/step - loss: 0.0286\n",
            "Epoch 3/30\n",
            "11/11 [==============================] - 0s 4ms/step - loss: 0.0210\n",
            "Epoch 4/30\n",
            "11/11 [==============================] - 0s 4ms/step - loss: 0.0148\n",
            "Epoch 5/30\n",
            "11/11 [==============================] - 0s 4ms/step - loss: 0.0117\n",
            "Epoch 6/30\n",
            "11/11 [==============================] - 0s 4ms/step - loss: 0.0123\n",
            "Epoch 7/30\n",
            "11/11 [==============================] - 0s 4ms/step - loss: 0.0109\n",
            "Epoch 8/30\n",
            "11/11 [==============================] - 0s 4ms/step - loss: 0.0073\n",
            "Epoch 9/30\n",
            "11/11 [==============================] - 0s 4ms/step - loss: 0.0067\n",
            "Epoch 10/30\n",
            "11/11 [==============================] - 0s 4ms/step - loss: 0.0059\n",
            "Epoch 11/30\n",
            "11/11 [==============================] - 0s 4ms/step - loss: 0.0047\n",
            "Epoch 12/30\n",
            "11/11 [==============================] - 0s 4ms/step - loss: 0.0042\n",
            "Epoch 13/30\n",
            "11/11 [==============================] - 0s 6ms/step - loss: 0.0039\n",
            "Epoch 14/30\n",
            "11/11 [==============================] - 0s 5ms/step - loss: 0.0031\n",
            "Epoch 15/30\n",
            "11/11 [==============================] - 0s 4ms/step - loss: 0.0035\n",
            "Epoch 16/30\n",
            "11/11 [==============================] - 0s 5ms/step - loss: 0.0032\n",
            "Epoch 17/30\n",
            "11/11 [==============================] - 0s 6ms/step - loss: 0.0023\n",
            "Epoch 18/30\n",
            "11/11 [==============================] - 0s 5ms/step - loss: 0.0035\n",
            "Epoch 19/30\n",
            "11/11 [==============================] - 0s 4ms/step - loss: 0.0028\n",
            "Epoch 20/30\n",
            "11/11 [==============================] - 0s 4ms/step - loss: 0.0029\n",
            "Epoch 21/30\n",
            "11/11 [==============================] - 0s 4ms/step - loss: 0.0026\n",
            "Epoch 22/30\n",
            "11/11 [==============================] - 0s 4ms/step - loss: 0.0022\n",
            "Epoch 23/30\n",
            "11/11 [==============================] - 0s 4ms/step - loss: 0.0022\n",
            "Epoch 24/30\n",
            "11/11 [==============================] - 0s 5ms/step - loss: 0.0019\n",
            "Epoch 25/30\n",
            "11/11 [==============================] - 0s 4ms/step - loss: 0.0015\n",
            "Epoch 26/30\n",
            "11/11 [==============================] - 0s 5ms/step - loss: 0.0014\n",
            "Epoch 27/30\n",
            "11/11 [==============================] - 0s 4ms/step - loss: 0.0014\n",
            "Epoch 28/30\n",
            "11/11 [==============================] - 0s 4ms/step - loss: 0.0018\n",
            "Epoch 29/30\n",
            "11/11 [==============================] - 0s 4ms/step - loss: 0.0016\n",
            "Epoch 30/30\n",
            "11/11 [==============================] - 0s 4ms/step - loss: 0.0020\n"
          ]
        },
        {
          "output_type": "execute_result",
          "data": {
            "text/plain": [
              "<keras.src.callbacks.History at 0x78822869b820>"
            ]
          },
          "metadata": {},
          "execution_count": 9
        }
      ]
    },
    {
      "cell_type": "code",
      "source": [
        "model.evaluate([user_test[:, u_s:], item_test[:, i_s:]], y_test)"
      ],
      "metadata": {
        "colab": {
          "base_uri": "https://localhost:8080/"
        },
        "id": "drfQcUEqHnxv",
        "outputId": "c5d4afc4-c9f2-436a-e89f-4746b6320fd5"
      },
      "execution_count": null,
      "outputs": [
        {
          "output_type": "stream",
          "name": "stdout",
          "text": [
            "3/3 [==============================] - 0s 8ms/step - loss: 0.0079\n"
          ]
        },
        {
          "output_type": "execute_result",
          "data": {
            "text/plain": [
              "0.00790192000567913"
            ]
          },
          "metadata": {},
          "execution_count": 10
        }
      ]
    },
    {
      "cell_type": "code",
      "source": [
        "new_user_id = 1\n",
        "new_rating_ave = 0.0\n",
        "new_Bahari = 15.0\n",
        "new_Budaya = 10.0\n",
        "new_Cagar_Alam = 20.0\n",
        "new_Pusat_Perbelanjaan = 10.0\n",
        "new_Taman_Hiburan = 10.0\n",
        "new_Tempat_Ibadah = 0.0\n",
        "new_rating_count = 0\n",
        "\n",
        "user_vec = np.array([[new_user_id, new_rating_count, new_rating_ave, new_Bahari, new_Budaya, new_Cagar_Alam, new_Pusat_Perbelanjaan, new_Taman_Hiburan, new_Tempat_Ibadah]])"
      ],
      "metadata": {
        "id": "o6M3HVBJIBIR"
      },
      "execution_count": null,
      "outputs": []
    },
    {
      "cell_type": "code",
      "source": [
        "def gen_user_vecs(user_vec, num_items):\n",
        "    user_vecs = np.tile(user_vec, (num_items, 1))\n",
        "    return user_vecs"
      ],
      "metadata": {
        "id": "K_8xqOjxJZ3V"
      },
      "execution_count": null,
      "outputs": []
    },
    {
      "cell_type": "code",
      "source": [
        "def print_pred_movies(y_p, item, destination_dict, maxcount=10):\n",
        "    count = 0\n",
        "    disp = [[\"y_p\", \"movie id\", \"rating ave\", \"title\", \"genres\"]]\n",
        "\n",
        "    for i in range(0, y_p.shape[0]):\n",
        "        if count == maxcount:\n",
        "            break\n",
        "        count += 1\n",
        "        destination_id = item[i, 0].astype(int)\n",
        "        disp.append([np.around(y_p[i, 0], 1), item[i, 0].astype(int), np.around(item[i, 2].astype(float), 1),\n",
        "                     destination_dict[destination_id]['name'], destination_dict[destination_id]['category']])\n",
        "\n",
        "    table = tabulate.tabulate(disp, tablefmt='html', headers=\"firstrow\")\n",
        "    return disp"
      ],
      "metadata": {
        "id": "XqEmm_zlJ2P3"
      },
      "execution_count": null,
      "outputs": []
    },
    {
      "cell_type": "code",
      "source": [
        "user_vecs = gen_user_vecs(user_vec,len(item_vecs))\n",
        "\n",
        "suser_vecs = scalerUser.transform(user_vecs)\n",
        "sitem_vecs = scalerItem.transform(item_vecs)\n",
        "\n",
        "y_p = model.predict([suser_vecs[:, u_s:], sitem_vecs[:, i_s:]])\n",
        "\n",
        "y_pu = scalerTarget.inverse_transform(y_p)\n",
        "\n",
        "sorted_index = np.argsort(-y_pu,axis=0).reshape(-1).tolist()\n",
        "sorted_ypu   = y_pu[sorted_index]\n",
        "sorted_items = item_vecs[sorted_index]\n",
        "\n",
        "print_pred_movies(sorted_ypu, sorted_items, destination_dict, maxcount = 10)"
      ],
      "metadata": {
        "colab": {
          "base_uri": "https://localhost:8080/"
        },
        "id": "jzzEUu0SJSVD",
        "outputId": "39d97e47-5ba4-4e42-dbef-3570e63301c1"
      },
      "execution_count": null,
      "outputs": [
        {
          "output_type": "stream",
          "name": "stdout",
          "text": [
            "14/14 [==============================] - 0s 3ms/step\n"
          ]
        },
        {
          "output_type": "execute_result",
          "data": {
            "text/plain": [
              "[['y_p', 'movie id', 'rating ave', 'title', 'genres'],\n",
              " [3.9, 292, 3.1, 'Curug Anom', 'Cagar Alam'],\n",
              " [3.9, 365, 3.1, 'Waduk Jatibarang', 'Cagar Alam'],\n",
              " [3.9, 169, 3.1, 'Puncak Segoro', 'Cagar Alam'],\n",
              " [3.9, 323, 3.1, 'Kebun Tanaman Obat Sari Alam', 'Cagar Alam'],\n",
              " [3.9, 393, 3.0, 'Taman Harmoni Keputih', 'Cagar Alam'],\n",
              " [3.9, 161, 3.1, 'Bukit Paralayang, Watugupit', 'Cagar Alam'],\n",
              " [3.9, 238, 3.1, 'Gunung Manglayang', 'Cagar Alam'],\n",
              " [3.9, 206, 3.1, 'Wisata Kaliurang', 'Cagar Alam'],\n",
              " [3.9, 148, 3.1, 'Goa Rancang Kencono', 'Cagar Alam'],\n",
              " [3.9, 341, 3.2, 'Hutan Wisata Tinjomoyo Semarang', 'Cagar Alam']]"
            ]
          },
          "metadata": {},
          "execution_count": 46
        }
      ]
    },
    {
      "cell_type": "code",
      "source": [
        "model.save('model.h5')"
      ],
      "metadata": {
        "colab": {
          "base_uri": "https://localhost:8080/"
        },
        "id": "ndEemlAEMoss",
        "outputId": "eaa0b90e-0805-4d91-8278-0254d07d8f1e"
      },
      "execution_count": null,
      "outputs": [
        {
          "output_type": "stream",
          "name": "stderr",
          "text": [
            "/usr/local/lib/python3.10/dist-packages/keras/src/engine/training.py:3079: UserWarning: You are saving your model as an HDF5 file via `model.save()`. This file format is considered legacy. We recommend using instead the native Keras format, e.g. `model.save('my_model.keras')`.\n",
            "  saving_api.save_model(\n"
          ]
        }
      ]
    }
  ]
}