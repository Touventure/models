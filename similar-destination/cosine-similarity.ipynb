{
 "cells": [
  {
   "cell_type": "code",
   "execution_count": 3,
   "outputs": [],
   "source": [
    "import pandas as pd\n",
    "import numpy as np\n",
    "from sklearn.feature_extraction.text import TfidfVectorizer\n",
    "from sklearn.metrics.pairwise import cosine_similarity\n",
    "from sklearn.preprocessing import StandardScaler\n",
    "from sklearn.model_selection import train_test_split\n",
    "import tensorflow as tf\n",
    "from tensorflow.keras.models import Model\n",
    "import os\n",
    "from urllib import request"
   ],
   "metadata": {
    "collapsed": false,
    "ExecuteTime": {
     "end_time": "2023-12-12T18:05:29.300704Z",
     "start_time": "2023-12-12T18:05:29.292122600Z"
    }
   },
   "id": "9b39156eb1eb8ea2"
  },
  {
   "cell_type": "code",
   "execution_count": 20,
   "outputs": [],
   "source": [
    "def load_data():\n",
    "    data_dir = \"data\"\n",
    "    data_name = \"destination.csv\"\n",
    "    if not os.path.exists(data_dir):\n",
    "        os.mkdir(data_dir)\n",
    "        \n",
    "    data_url = \"https://raw.githubusercontent.com/Touventure/models/main/data/tourism_with_id.csv\"\n",
    "    request.urlretrieve(data_url, f\"{data_dir}/{data_name}\")\n",
    "    df = pd.read_csv(f\"{data_dir}/{data_name}\")\n",
    "    df = df[[\"Place_Id\", \"Place_Name\", \"Description\", \"Category\", \"City\", \"Price\", \"Rating\", \"Time_Minutes\", \"Coordinate\", \"Lat\", \"Long\"]]\n",
    "    df = df.rename(columns={\"Place_Id\": \"id\",\"Place_Name\": \"name\", \"Description\": \"des\", \"Category\": \"cat\", \"City\": \"cit\", \"Price\": \"price\", \"Rating\": \"rating\", \"Time_Minutes\": \"tm\", \"Coordinate\": \"cdt\", \"Lat\": \"lat\", \"Long\": \"long\"})\n",
    "    df = df.dropna().drop_duplicates()\n",
    "    \n",
    "    df[\"text_features\"] = df['des'] + ' ' + df['cat'] + ' ' + df['cit']\n",
    "    vectorizer = TfidfVectorizer(stop_words=\"indonesian\")\n",
    "    return pd.DataFrame(df)"
   ],
   "metadata": {
    "collapsed": false,
    "ExecuteTime": {
     "end_time": "2023-12-12T18:25:26.224552800Z",
     "start_time": "2023-12-12T18:25:26.212976100Z"
    }
   },
   "id": "54e78a13ec7e4471"
  },
  {
   "cell_type": "code",
   "execution_count": 22,
   "outputs": [
    {
     "data": {
      "text/plain": "      id                              name  \\\n0      1                  Monumen Nasional   \n1      2                          Kota Tua   \n2      3                     Dunia Fantasi   \n4      5          Atlantis Water Adventure   \n5      6           Taman Impian Jaya Ancol   \n..   ...                               ...   \n428  429                House of Sampoerna   \n429  430            Atlantis Land Surabaya   \n431  432                       Taman Mundu   \n432  433               Museum Mpu Tantular   \n434  435  Taman Air Mancur Menari Kenjeran   \n\n                                                   des            cat  \\\n0    Monumen Nasional atau yang populer disingkat d...         Budaya   \n1    Kota tua di Jakarta, yang juga bernama Kota Tu...         Budaya   \n2    Dunia Fantasi atau disebut juga Dufan adalah t...  Taman Hiburan   \n4    Atlantis Water Adventure atau dikenal dengan A...  Taman Hiburan   \n5    Taman Impian Jaya Ancol merupakan sebuah objek...  Taman Hiburan   \n..                                                 ...            ...   \n428  House of Sampoerna adalah sebuah museum tembak...         Budaya   \n429  Sejak diresmikan pada bulan Desember 2017, Atl...  Taman Hiburan   \n431  Taman Mundu merupakan salah satu taman atau ru...  Taman Hiburan   \n432  Museum Negeri Mpu Tantular adalah sebuah museu...         Budaya   \n434  Air mancur menari atau dancing fountain juga a...  Taman Hiburan   \n\n          cit   price  rating     tm  \\\n0     Jakarta   20000     4.6   15.0   \n1     Jakarta       0     4.6   90.0   \n2     Jakarta  270000     4.6  360.0   \n4     Jakarta   94000     4.5   60.0   \n5     Jakarta   25000     4.5   10.0   \n..        ...     ...     ...    ...   \n428  Surabaya       0     4.6   30.0   \n429  Surabaya  125000     4.4  120.0   \n431  Surabaya       0     4.4   30.0   \n432  Surabaya    2000     4.4   45.0   \n434  Surabaya       0     4.4   45.0   \n\n                                                 cdt       lat        long  \\\n0            {'lat': -6.1753924, 'lng': 106.8271528} -6.175392  106.827153   \n1    {'lat': -6.137644799999999, 'lng': 106.8171245} -6.137645  106.817125   \n2    {'lat': -6.125312399999999, 'lng': 106.8335377} -6.125312  106.833538   \n4               {'lat': -6.12419, 'lng': 106.839134} -6.124190  106.839134   \n5    {'lat': -6.117333200000001, 'lng': 106.8579951} -6.117333  106.857995   \n..                                               ...       ...         ...   \n428  {'lat': -7.230817300000001, 'lng': 112.7342344} -7.230817  112.734234   \n429          {'lat': -7.2516189, 'lng': 112.8009694} -7.251619  112.800969   \n431  {'lat': -7.251604599999999, 'lng': 112.7545983} -7.251605  112.754598   \n432          {'lat': -7.4338593, 'lng': 112.7199058} -7.433859  112.719906   \n434          {'lat': -7.2752955, 'lng': 112.7549381} -7.275296  112.754938   \n\n                                         text_features  \n0    Monumen Nasional atau yang populer disingkat d...  \n1    Kota tua di Jakarta, yang juga bernama Kota Tu...  \n2    Dunia Fantasi atau disebut juga Dufan adalah t...  \n4    Atlantis Water Adventure atau dikenal dengan A...  \n5    Taman Impian Jaya Ancol merupakan sebuah objek...  \n..                                                 ...  \n428  House of Sampoerna adalah sebuah museum tembak...  \n429  Sejak diresmikan pada bulan Desember 2017, Atl...  \n431  Taman Mundu merupakan salah satu taman atau ru...  \n432  Museum Negeri Mpu Tantular adalah sebuah museu...  \n434  Air mancur menari atau dancing fountain juga a...  \n\n[205 rows x 12 columns]",
      "text/html": "<div>\n<style scoped>\n    .dataframe tbody tr th:only-of-type {\n        vertical-align: middle;\n    }\n\n    .dataframe tbody tr th {\n        vertical-align: top;\n    }\n\n    .dataframe thead th {\n        text-align: right;\n    }\n</style>\n<table border=\"1\" class=\"dataframe\">\n  <thead>\n    <tr style=\"text-align: right;\">\n      <th></th>\n      <th>id</th>\n      <th>name</th>\n      <th>des</th>\n      <th>cat</th>\n      <th>cit</th>\n      <th>price</th>\n      <th>rating</th>\n      <th>tm</th>\n      <th>cdt</th>\n      <th>lat</th>\n      <th>long</th>\n      <th>text_features</th>\n    </tr>\n  </thead>\n  <tbody>\n    <tr>\n      <th>0</th>\n      <td>1</td>\n      <td>Monumen Nasional</td>\n      <td>Monumen Nasional atau yang populer disingkat d...</td>\n      <td>Budaya</td>\n      <td>Jakarta</td>\n      <td>20000</td>\n      <td>4.6</td>\n      <td>15.0</td>\n      <td>{'lat': -6.1753924, 'lng': 106.8271528}</td>\n      <td>-6.175392</td>\n      <td>106.827153</td>\n      <td>Monumen Nasional atau yang populer disingkat d...</td>\n    </tr>\n    <tr>\n      <th>1</th>\n      <td>2</td>\n      <td>Kota Tua</td>\n      <td>Kota tua di Jakarta, yang juga bernama Kota Tu...</td>\n      <td>Budaya</td>\n      <td>Jakarta</td>\n      <td>0</td>\n      <td>4.6</td>\n      <td>90.0</td>\n      <td>{'lat': -6.137644799999999, 'lng': 106.8171245}</td>\n      <td>-6.137645</td>\n      <td>106.817125</td>\n      <td>Kota tua di Jakarta, yang juga bernama Kota Tu...</td>\n    </tr>\n    <tr>\n      <th>2</th>\n      <td>3</td>\n      <td>Dunia Fantasi</td>\n      <td>Dunia Fantasi atau disebut juga Dufan adalah t...</td>\n      <td>Taman Hiburan</td>\n      <td>Jakarta</td>\n      <td>270000</td>\n      <td>4.6</td>\n      <td>360.0</td>\n      <td>{'lat': -6.125312399999999, 'lng': 106.8335377}</td>\n      <td>-6.125312</td>\n      <td>106.833538</td>\n      <td>Dunia Fantasi atau disebut juga Dufan adalah t...</td>\n    </tr>\n    <tr>\n      <th>4</th>\n      <td>5</td>\n      <td>Atlantis Water Adventure</td>\n      <td>Atlantis Water Adventure atau dikenal dengan A...</td>\n      <td>Taman Hiburan</td>\n      <td>Jakarta</td>\n      <td>94000</td>\n      <td>4.5</td>\n      <td>60.0</td>\n      <td>{'lat': -6.12419, 'lng': 106.839134}</td>\n      <td>-6.124190</td>\n      <td>106.839134</td>\n      <td>Atlantis Water Adventure atau dikenal dengan A...</td>\n    </tr>\n    <tr>\n      <th>5</th>\n      <td>6</td>\n      <td>Taman Impian Jaya Ancol</td>\n      <td>Taman Impian Jaya Ancol merupakan sebuah objek...</td>\n      <td>Taman Hiburan</td>\n      <td>Jakarta</td>\n      <td>25000</td>\n      <td>4.5</td>\n      <td>10.0</td>\n      <td>{'lat': -6.117333200000001, 'lng': 106.8579951}</td>\n      <td>-6.117333</td>\n      <td>106.857995</td>\n      <td>Taman Impian Jaya Ancol merupakan sebuah objek...</td>\n    </tr>\n    <tr>\n      <th>...</th>\n      <td>...</td>\n      <td>...</td>\n      <td>...</td>\n      <td>...</td>\n      <td>...</td>\n      <td>...</td>\n      <td>...</td>\n      <td>...</td>\n      <td>...</td>\n      <td>...</td>\n      <td>...</td>\n      <td>...</td>\n    </tr>\n    <tr>\n      <th>428</th>\n      <td>429</td>\n      <td>House of Sampoerna</td>\n      <td>House of Sampoerna adalah sebuah museum tembak...</td>\n      <td>Budaya</td>\n      <td>Surabaya</td>\n      <td>0</td>\n      <td>4.6</td>\n      <td>30.0</td>\n      <td>{'lat': -7.230817300000001, 'lng': 112.7342344}</td>\n      <td>-7.230817</td>\n      <td>112.734234</td>\n      <td>House of Sampoerna adalah sebuah museum tembak...</td>\n    </tr>\n    <tr>\n      <th>429</th>\n      <td>430</td>\n      <td>Atlantis Land Surabaya</td>\n      <td>Sejak diresmikan pada bulan Desember 2017, Atl...</td>\n      <td>Taman Hiburan</td>\n      <td>Surabaya</td>\n      <td>125000</td>\n      <td>4.4</td>\n      <td>120.0</td>\n      <td>{'lat': -7.2516189, 'lng': 112.8009694}</td>\n      <td>-7.251619</td>\n      <td>112.800969</td>\n      <td>Sejak diresmikan pada bulan Desember 2017, Atl...</td>\n    </tr>\n    <tr>\n      <th>431</th>\n      <td>432</td>\n      <td>Taman Mundu</td>\n      <td>Taman Mundu merupakan salah satu taman atau ru...</td>\n      <td>Taman Hiburan</td>\n      <td>Surabaya</td>\n      <td>0</td>\n      <td>4.4</td>\n      <td>30.0</td>\n      <td>{'lat': -7.251604599999999, 'lng': 112.7545983}</td>\n      <td>-7.251605</td>\n      <td>112.754598</td>\n      <td>Taman Mundu merupakan salah satu taman atau ru...</td>\n    </tr>\n    <tr>\n      <th>432</th>\n      <td>433</td>\n      <td>Museum Mpu Tantular</td>\n      <td>Museum Negeri Mpu Tantular adalah sebuah museu...</td>\n      <td>Budaya</td>\n      <td>Surabaya</td>\n      <td>2000</td>\n      <td>4.4</td>\n      <td>45.0</td>\n      <td>{'lat': -7.4338593, 'lng': 112.7199058}</td>\n      <td>-7.433859</td>\n      <td>112.719906</td>\n      <td>Museum Negeri Mpu Tantular adalah sebuah museu...</td>\n    </tr>\n    <tr>\n      <th>434</th>\n      <td>435</td>\n      <td>Taman Air Mancur Menari Kenjeran</td>\n      <td>Air mancur menari atau dancing fountain juga a...</td>\n      <td>Taman Hiburan</td>\n      <td>Surabaya</td>\n      <td>0</td>\n      <td>4.4</td>\n      <td>45.0</td>\n      <td>{'lat': -7.2752955, 'lng': 112.7549381}</td>\n      <td>-7.275296</td>\n      <td>112.754938</td>\n      <td>Air mancur menari atau dancing fountain juga a...</td>\n    </tr>\n  </tbody>\n</table>\n<p>205 rows × 12 columns</p>\n</div>"
     },
     "execution_count": 22,
     "metadata": {},
     "output_type": "execute_result"
    }
   ],
   "source": [
    "load_data()"
   ],
   "metadata": {
    "collapsed": false,
    "ExecuteTime": {
     "end_time": "2023-12-12T18:26:28.600761600Z",
     "start_time": "2023-12-12T18:26:28.104688700Z"
    }
   },
   "id": "6c039a8679558796"
  }
 ],
 "metadata": {
  "kernelspec": {
   "display_name": "Python 3",
   "language": "python",
   "name": "python3"
  },
  "language_info": {
   "codemirror_mode": {
    "name": "ipython",
    "version": 2
   },
   "file_extension": ".py",
   "mimetype": "text/x-python",
   "name": "python",
   "nbconvert_exporter": "python",
   "pygments_lexer": "ipython2",
   "version": "2.7.6"
  }
 },
 "nbformat": 4,
 "nbformat_minor": 5
}
